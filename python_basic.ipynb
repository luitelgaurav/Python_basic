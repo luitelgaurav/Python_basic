{
 "cells": [
  {
   "cell_type": "code",
   "execution_count": 1,
   "metadata": {},
   "outputs": [
    {
     "name": "stdout",
     "output_type": "stream",
     "text": [
      "hello world\n"
     ]
    }
   ],
   "source": [
    "#first program\n",
    "print(\"hello world\")\n"
   ]
  },
  {
   "cell_type": "code",
   "execution_count": 2,
   "metadata": {},
   "outputs": [
    {
     "name": "stdout",
     "output_type": "stream",
     "text": [
      "hello \n",
      " world\n"
     ]
    }
   ],
   "source": [
    "# print words in two line, use \\n to change the line\n",
    "print(\"hello \\n world\")"
   ]
  },
  {
   "cell_type": "code",
   "execution_count": 3,
   "metadata": {},
   "outputs": [
    {
     "data": {
      "text/plain": [
       "float"
      ]
     },
     "execution_count": 3,
     "metadata": {},
     "output_type": "execute_result"
    }
   ],
   "source": [
    "#type command is used to check the nature of the input, either they are folating point value or the integers or the strings.\n",
    "type(20.43)"
   ]
  },
  {
   "cell_type": "code",
   "execution_count": 4,
   "metadata": {},
   "outputs": [
    {
     "data": {
      "text/plain": [
       "str"
      ]
     },
     "execution_count": 4,
     "metadata": {},
     "output_type": "execute_result"
    }
   ],
   "source": [
    "type(\"my name is gaurav luitel\")\n"
   ]
  },
  {
   "cell_type": "code",
   "execution_count": 5,
   "metadata": {},
   "outputs": [
    {
     "data": {
      "text/plain": [
       "int"
      ]
     },
     "execution_count": 5,
     "metadata": {},
     "output_type": "execute_result"
    }
   ],
   "source": [
    "type(32)"
   ]
  },
  {
   "cell_type": "code",
   "execution_count": 11,
   "metadata": {},
   "outputs": [
    {
     "data": {
      "text/plain": [
       "bool"
      ]
     },
     "execution_count": 11,
     "metadata": {},
     "output_type": "execute_result"
    }
   ],
   "source": [
    "type(True)"
   ]
  },
  {
   "cell_type": "code",
   "execution_count": 12,
   "metadata": {},
   "outputs": [
    {
     "data": {
      "text/plain": [
       "bool"
      ]
     },
     "execution_count": 12,
     "metadata": {},
     "output_type": "execute_result"
    }
   ],
   "source": [
    "type(False)"
   ]
  },
  {
   "cell_type": "code",
   "execution_count": 6,
   "metadata": {},
   "outputs": [
    {
     "data": {
      "text/plain": [
       "2"
      ]
     },
     "execution_count": 6,
     "metadata": {},
     "output_type": "execute_result"
    }
   ],
   "source": [
    "#type casting, changing the form of type; float to int\n",
    "int(2.2)"
   ]
  },
  {
   "cell_type": "code",
   "execution_count": 7,
   "metadata": {},
   "outputs": [
    {
     "data": {
      "text/plain": [
       "2.0"
      ]
     },
     "execution_count": 7,
     "metadata": {},
     "output_type": "execute_result"
    }
   ],
   "source": [
    "#int to float\n",
    "float(2)"
   ]
  },
  {
   "cell_type": "code",
   "execution_count": 9,
   "metadata": {},
   "outputs": [
    {
     "data": {
      "text/plain": [
       "'22'"
      ]
     },
     "execution_count": 9,
     "metadata": {},
     "output_type": "execute_result"
    }
   ],
   "source": [
    "#int to string\n",
    "str(\"22\")"
   ]
  },
  {
   "cell_type": "code",
   "execution_count": 10,
   "metadata": {},
   "outputs": [
    {
     "data": {
      "text/plain": [
       "'22.22'"
      ]
     },
     "execution_count": 10,
     "metadata": {},
     "output_type": "execute_result"
    }
   ],
   "source": [
    "#float to string\n",
    "str(\"22.22\")"
   ]
  },
  {
   "cell_type": "code",
   "execution_count": 18,
   "metadata": {},
   "outputs": [
    {
     "name": "stdout",
     "output_type": "stream",
     "text": [
      "3.7.6 (default, Jan  8 2020, 20:23:39) [MSC v.1916 64 bit (AMD64)]\n"
     ]
    }
   ],
   "source": [
    "#check the python version\n",
    "import sys\n",
    "print(sys.version)"
   ]
  },
  {
   "cell_type": "code",
   "execution_count": 4,
   "metadata": {},
   "outputs": [
    {
     "name": "stdout",
     "output_type": "stream",
     "text": [
      "M\n",
      "M\n",
      "MICHAEL JACK\n",
      "AEL JAC\n",
      "MCALJC\n",
      "MCALJCSN\n",
      "MCALJCSN\n"
     ]
    }
   ],
   "source": [
    "name=\"MICHAEL JACKSON\"\n",
    "print(name[0])\n",
    "print(name[-15])\n",
    "print(name[0:12])\n",
    "print(name[4:11])\n",
    "print(name[0:11:2])\n",
    "print(name[::2])#prints the elements alternatively from 1st position untill the end of the string\n",
    "print(name[0:15:2])"
   ]
  },
  {
   "cell_type": "code",
   "execution_count": 8,
   "metadata": {},
   "outputs": [
    {
     "data": {
      "text/plain": [
       "'MICHAEl'"
      ]
     },
     "execution_count": 8,
     "metadata": {},
     "output_type": "execute_result"
    }
   ],
   "source": [
    "'M'+'I'+'C'+'H'+'A'+'E'+'l'"
   ]
  },
  {
   "cell_type": "code",
   "execution_count": 9,
   "metadata": {},
   "outputs": [
    {
     "data": {
      "text/plain": [
       "[2, 5, 6, 6, 9, 9, 10, 10]"
      ]
     },
     "execution_count": 9,
     "metadata": {},
     "output_type": "execute_result"
    }
   ],
   "source": [
    "ratings=(10,9,6,5,10,9,6,2)\n",
    "Sort=sorted(ratings)\n",
    "Sort"
   ]
  },
  {
   "cell_type": "code",
   "execution_count": 47,
   "metadata": {},
   "outputs": [
    {
     "data": {
      "text/plain": [
       "(10, 9, 6, 5, 10, 9, 6, 2)"
      ]
     },
     "execution_count": 47,
     "metadata": {},
     "output_type": "execute_result"
    }
   ],
   "source": [
    "ratings=(10,9,6,5,10,9,6,2)\n",
    "ratings_1=ratings\n",
    "ratings_1"
   ]
  },
  {
   "cell_type": "code",
   "execution_count": 77,
   "metadata": {},
   "outputs": [
    {
     "data": {
      "text/plain": [
       "'j'"
      ]
     },
     "execution_count": 77,
     "metadata": {},
     "output_type": "execute_result"
    }
   ],
   "source": [
    "#tuples nesting\n",
    "tuples=(1,2,\"metallica\",(\"michael\", \"jackson\"),((\"bob\", \"marley\"),(\"john\", \"lenon\")), (\"Linkin\", \"park\"),(5,2),3,2)\n",
    "tuples[3][1][0]"
   ]
  },
  {
   "cell_type": "code",
   "execution_count": 2,
   "metadata": {},
   "outputs": [
    {
     "data": {
      "text/plain": [
       "[1,\n",
       " 2,\n",
       " 'metallica',\n",
       " ('michael', 'jackson'),\n",
       " (('bob', 'marley'), ('john', 'lenon')),\n",
       " ('Linkin', 'park'),\n",
       " (5, 2),\n",
       " 3,\n",
       " 2,\n",
       " 'kurt',\n",
       " 'cobain']"
      ]
     },
     "execution_count": 2,
     "metadata": {},
     "output_type": "execute_result"
    }
   ],
   "source": [
    "# .extend command adds the new element to the existing list\n",
    "lists=[1,2,\"metallica\",(\"michael\", \"jackson\"),((\"bob\", \"marley\"),(\"john\", \"lenon\")), (\"Linkin\", \"park\"),(5,2),3,2]\n",
    "lists.extend([\"kurt\", \"cobain\"])\n",
    "lists"
   ]
  },
  {
   "cell_type": "code",
   "execution_count": 4,
   "metadata": {},
   "outputs": [
    {
     "data": {
      "text/plain": [
       "[1,\n",
       " 2,\n",
       " 'kandara',\n",
       " 'metallica',\n",
       " ('michael', 'jackson'),\n",
       " (('bob', 'marley'), ('john', 'lenon')),\n",
       " ('Linkin', 'park'),\n",
       " (5, 2),\n",
       " 3,\n",
       " 2,\n",
       " 'kurt',\n",
       " 'cobain']"
      ]
     },
     "execution_count": 4,
     "metadata": {},
     "output_type": "execute_result"
    }
   ],
   "source": [
    "# insert the element in the list\n",
    "lists.insert(2, \"kandara\")\n",
    "lists"
   ]
  },
  {
   "cell_type": "code",
   "execution_count": 6,
   "metadata": {},
   "outputs": [
    {
     "data": {
      "text/plain": [
       "[1,\n",
       " 2,\n",
       " 'kandara',\n",
       " 'metallica',\n",
       " ('michael', 'jackson'),\n",
       " (('bob', 'marley'), ('john', 'lenon')),\n",
       " ('Linkin', 'park'),\n",
       " (5, 2),\n",
       " 3,\n",
       " 2]"
      ]
     },
     "execution_count": 6,
     "metadata": {},
     "output_type": "execute_result"
    }
   ],
   "source": [
    "# .pop() removes the last elemet\n",
    "lists.pop()\n",
    "lists"
   ]
  },
  {
   "cell_type": "code",
   "execution_count": 8,
   "metadata": {},
   "outputs": [
    {
     "data": {
      "text/plain": [
       "3"
      ]
     },
     "execution_count": 8,
     "metadata": {},
     "output_type": "execute_result"
    }
   ],
   "source": [
    "# .index finds out index of the elements in a list.\n",
    "lists.index(\"metallica\")\n"
   ]
  },
  {
   "cell_type": "code",
   "execution_count": 84,
   "metadata": {},
   "outputs": [
    {
     "data": {
      "text/plain": [
       "[1,\n",
       " 2,\n",
       " 'metallica',\n",
       " ('michael', 'jackson'),\n",
       " (('bob', 'marley'), ('john', 'lenon')),\n",
       " ('Linkin', 'park'),\n",
       " (5, 2),\n",
       " 3,\n",
       " 2,\n",
       " ['kurt', 'cobain']]"
      ]
     },
     "execution_count": 84,
     "metadata": {},
     "output_type": "execute_result"
    }
   ],
   "source": [
    "# .append command adds the new list inside the existing list\n",
    "lists=[1,2,\"metallica\",(\"michael\", \"jackson\"),((\"bob\", \"marley\"),(\"john\", \"lenon\")), (\"Linkin\", \"park\"),(5,2),3,2]\n",
    "lists.append([\"kurt\",\"cobain\"])\n",
    "lists"
   ]
  },
  {
   "cell_type": "code",
   "execution_count": 15,
   "metadata": {},
   "outputs": [
    {
     "data": {
      "text/plain": [
       "[1,\n",
       " 2,\n",
       " 'metallica',\n",
       " ('michael', 'jackson'),\n",
       " 'bon jovi',\n",
       " ('Linkin', 'park'),\n",
       " (5, 2),\n",
       " 3,\n",
       " 2]"
      ]
     },
     "execution_count": 15,
     "metadata": {},
     "output_type": "execute_result"
    }
   ],
   "source": [
    "#list[] command replacess the elemet in the list\n",
    "lists=[1,2,\"metallica\",(\"michael\", \"jackson\"),((\"bob\", \"marley\"),(\"john\", \"lenon\")), (\"Linkin\", \"park\"),(5,2),3,2]\n",
    "lists[4]=\"bon jovi\"\n",
    "lists"
   ]
  },
  {
   "cell_type": "code",
   "execution_count": 14,
   "metadata": {},
   "outputs": [
    {
     "data": {
      "text/plain": [
       "[1,\n",
       " 2,\n",
       " 'metallica',\n",
       " (('bob', 'marley'), ('john', 'lenon')),\n",
       " ('Linkin', 'park'),\n",
       " (5, 2),\n",
       " 3,\n",
       " 2]"
      ]
     },
     "execution_count": 14,
     "metadata": {},
     "output_type": "execute_result"
    }
   ],
   "source": [
    "#del(....[]) command removes the elemet from the list\n",
    "lists=[1,2,\"metallica\",(\"michael\", \"jackson\"),((\"bob\", \"marley\"),(\"john\", \"lenon\")), (\"Linkin\", \"park\"),(5,2),3,2]\n",
    "del(lists[3])\n",
    "lists"
   ]
  },
  {
   "cell_type": "code",
   "execution_count": 95,
   "metadata": {},
   "outputs": [
    {
     "data": {
      "text/plain": [
       "['michael', 'jackson']"
      ]
     },
     "execution_count": 95,
     "metadata": {},
     "output_type": "execute_result"
    }
   ],
   "source": [
    "# .split() command splits the elements and make seperate elements \n",
    "y=\"michael jackson\".split()\n",
    "y"
   ]
  },
  {
   "cell_type": "code",
   "execution_count": 23,
   "metadata": {},
   "outputs": [
    {
     "data": {
      "text/plain": [
       "['b', 'c']"
      ]
     },
     "execution_count": 23,
     "metadata": {},
     "output_type": "execute_result"
    }
   ],
   "source": [
    "B=[\"a\",\"b\",\"c\"]\n",
    "B[1:]\n"
   ]
  },
  {
   "cell_type": "code",
   "execution_count": 114,
   "metadata": {},
   "outputs": [
    {
     "data": {
      "text/plain": [
       "{-4, -2, 2, 3, 4, 5, 9}"
      ]
     },
     "execution_count": 114,
     "metadata": {},
     "output_type": "execute_result"
    }
   ],
   "source": [
    "# sets are also the lists of the elements encolsed inside the curly brackets.\n",
    "sets_A={2,3,4,5,-4,2,9,-2}\n",
    "sets_A"
   ]
  },
  {
   "cell_type": "code",
   "execution_count": 104,
   "metadata": {},
   "outputs": [
    {
     "data": {
      "text/plain": [
       "{'biratnagar', 'chitwan', 'kathmandu', 'pokhara'}"
      ]
     },
     "execution_count": 104,
     "metadata": {},
     "output_type": "execute_result"
    }
   ],
   "source": [
    "#changes list to set(sets are arranged inside the curly brackets), also it remove the repeated elements\n",
    "places_lists=[\"kathmandu\", \"pokhara\", \"biratnagar\", \"chitwan\",\"kathmandu\",\"pokhara\"]\n",
    "places_set=set(places_lists)\n",
    "places_set"
   ]
  },
  {
   "cell_type": "code",
   "execution_count": 111,
   "metadata": {},
   "outputs": [
    {
     "data": {
      "text/plain": [
       "{'biratnagar', 'chitwan', 'kathmandu', 'pokhara', 'urlabari'}"
      ]
     },
     "execution_count": 111,
     "metadata": {},
     "output_type": "execute_result"
    }
   ],
   "source": [
    "# .add adds the elemets in the set\n",
    "places_sets={\"kathmandu\", \"pokhara\", \"biratnagar\", \"chitwan\",\"kathmandu\"}\n",
    "places_sets.add(\"urlabari\")\n",
    "places_sets"
   ]
  },
  {
   "cell_type": "code",
   "execution_count": 113,
   "metadata": {},
   "outputs": [
    {
     "data": {
      "text/plain": [
       "{'biratnagar', 'kathmandu', 'pokhara'}"
      ]
     },
     "execution_count": 113,
     "metadata": {},
     "output_type": "execute_result"
    }
   ],
   "source": [
    "# .remove removes the elemets from the set\n",
    "places_sets={\"kathmandu\", \"pokhara\", \"biratnagar\", \"chitwan\",\"kathmandu\",\"pokhara\"}\n",
    "places_sets.remove(\"chitwan\")\n",
    "places_sets"
   ]
  },
  {
   "cell_type": "code",
   "execution_count": 115,
   "metadata": {},
   "outputs": [
    {
     "data": {
      "text/plain": [
       "True"
      ]
     },
     "execution_count": 115,
     "metadata": {},
     "output_type": "execute_result"
    }
   ],
   "source": [
    "# in command checks whether the element lies in the set or not, if yes it returns \"True\" else \"False\".\n",
    "places_sets={\"kathmandu\", \"pokhara\", \"biratnagar\", \"chitwan\",\"kathmandu\",\"pokhara\"}\n",
    "\"pokhara\" in places_sets\n"
   ]
  },
  {
   "cell_type": "code",
   "execution_count": 117,
   "metadata": {},
   "outputs": [
    {
     "data": {
      "text/plain": [
       "{'AC-DC', 'the doors'}"
      ]
     },
     "execution_count": 117,
     "metadata": {},
     "output_type": "execute_result"
    }
   ],
   "source": [
    "# & operator gives the common elements of two sets(i.e. intersection of sets)\n",
    "album_set_1={\"AC-DC\",\"thriller is gone\",\"the doors\",\"dark side of the moon\",\"Always\"}\n",
    "album_set_2={\"back in black\", \"chinese democracy\",\"AC-DC\",\"the doors\"}\n",
    "album_set_3=album_set_1&album_set_2\n",
    "album_set_3"
   ]
  },
  {
   "cell_type": "code",
   "execution_count": 28,
   "metadata": {},
   "outputs": [
    {
     "data": {
      "text/plain": [
       "{'AC-DC',\n",
       " 'Always',\n",
       " 'RHCP',\n",
       " 'back in black',\n",
       " 'blink 182',\n",
       " 'chinese democracy',\n",
       " 'dark side of the moon',\n",
       " 'the doors',\n",
       " 'thriller is gone'}"
      ]
     },
     "execution_count": 28,
     "metadata": {},
     "output_type": "execute_result"
    }
   ],
   "source": [
    "# .union operator combines all elements to form a union of multiple sets.\n",
    "album_set_1={\"AC-DC\",\"thriller is gone\",\"the doors\",\"dark side of the moon\",\"Always\"}\n",
    "album_set_2={\"back in black\", \"chinese democracy\",\"AC-DC\",\"the doors\"}\n",
    "album_set_3={\"AC-DC\",\"the doors\",\"blink 182\",\"RHCP\"}\n",
    "album_set_1.union(album_set_2).union(album_set_3)\n"
   ]
  },
  {
   "cell_type": "code",
   "execution_count": 31,
   "metadata": {},
   "outputs": [
    {
     "data": {
      "text/plain": [
       "False"
      ]
     },
     "execution_count": 31,
     "metadata": {},
     "output_type": "execute_result"
    }
   ],
   "source": [
    "# .issubset checks whether the set is a subset of another set or not. if yes it returns \"True\" else \"False\"\n",
    "album_set_1={\"AC-DC\",\"thriller is gone\",\"the doors\",\"dark side of the moon\",\"john bon jovi\"}\n",
    "album_set_2={\"back in black\", \"chinese democracy\",\"AC-DC\",\"the doors\"}\n",
    "album_set_3={\"AC-DC\",\"the doors\",\"blink 182\"}\n",
    "album_set_3.issubset(album_set_2)"
   ]
  },
  {
   "cell_type": "code",
   "execution_count": 2,
   "metadata": {},
   "outputs": [
    {
     "data": {
      "text/plain": [
       "{'back in black', 'chinese democracy'}"
      ]
     },
     "execution_count": 2,
     "metadata": {},
     "output_type": "execute_result"
    }
   ],
   "source": [
    "# .difference prints the elements contained only in one set\n",
    "album_set_1={\"AC-DC\",\"thriller is gone\",\"the doors\",\"dark side of the moon\",\"Always\"}\n",
    "album_set_2={\"back in black\", \"chinese democracy\",\"AC-DC\",\"the doors\"}\n",
    "album_set_2.difference(album_set_1)"
   ]
  },
  {
   "cell_type": "code",
   "execution_count": 33,
   "metadata": {},
   "outputs": [
    {
     "data": {
      "text/plain": [
       "{'AC-DC', 'the doors'}"
      ]
     },
     "execution_count": 33,
     "metadata": {},
     "output_type": "execute_result"
    }
   ],
   "source": [
    "# .intersection prints the common elements of two sets\n",
    "album_set_1={\"AC-DC\",\"thriller is gone\",\"the doors\",\"dark side of the moon\",\"Always\"}\n",
    "album_set_2={\"back in black\", \"chinese democracy\",\"AC-DC\",\"the doors\"}\n",
    "album_set_1.intersection(album_set_2)"
   ]
  },
  {
   "cell_type": "code",
   "execution_count": 3,
   "metadata": {},
   "outputs": [
    {
     "data": {
      "text/plain": [
       "11"
      ]
     },
     "execution_count": 3,
     "metadata": {},
     "output_type": "execute_result"
    }
   ],
   "source": [
    "#Dictionary \n",
    "Dict={\"key1\":9, \"key2\":11, \"key3\":4, \"key4\":8}\n",
    "Dict[\"key2\"]\n"
   ]
  },
  {
   "cell_type": "code",
   "execution_count": 129,
   "metadata": {},
   "outputs": [
    {
     "data": {
      "text/plain": [
       "{'key1': 9, 'key2': 11, 'key3': 4, 'key4': 8, 'key5': '6'}"
      ]
     },
     "execution_count": 129,
     "metadata": {},
     "output_type": "execute_result"
    }
   ],
   "source": [
    "# adding keys and values in the dictionary\n",
    "Dict={\"key1\":9, \"key2\":11, \"key3\":4, \"key4\":8}\n",
    "Dict[\"key5\"]=\"6\"\n",
    "Dict"
   ]
  },
  {
   "cell_type": "code",
   "execution_count": 131,
   "metadata": {},
   "outputs": [
    {
     "data": {
      "text/plain": [
       "{'key2': 11, 'key3': 4, 'key4': 8}"
      ]
     },
     "execution_count": 131,
     "metadata": {},
     "output_type": "execute_result"
    }
   ],
   "source": [
    "# \"del\" is used for deleting the keys and its value from the dictionary\n",
    "Dict={\"key1\":9, \"key2\":11, \"key3\":4, \"key4\":8}\n",
    "del(Dict[\"key1\"])\n",
    "Dict"
   ]
  },
  {
   "cell_type": "code",
   "execution_count": 133,
   "metadata": {},
   "outputs": [
    {
     "data": {
      "text/plain": [
       "False"
      ]
     },
     "execution_count": 133,
     "metadata": {},
     "output_type": "execute_result"
    }
   ],
   "source": [
    "# \"in\" command checks whether the key and its value exist inside the dictionary or not\n",
    "Dict={\"key1\":9, \"key2\":11, \"key3\":4, \"key4\":8}\n",
    "\"key5\" in Dict\n"
   ]
  },
  {
   "cell_type": "code",
   "execution_count": 2,
   "metadata": {},
   "outputs": [
    {
     "name": "stdout",
     "output_type": "stream",
     "text": [
      "dict_keys(['key1', 'key2', 'key3', 'key4'])\n"
     ]
    }
   ],
   "source": [
    "# \".keys\" command lists out all of the keys from the dictionary\n",
    "Dict={\"key1\":9, \"key2\":11, \"key3\":4, \"key4\":8}\n",
    "print(Dict.keys())"
   ]
  },
  {
   "cell_type": "code",
   "execution_count": 35,
   "metadata": {},
   "outputs": [
    {
     "data": {
      "text/plain": [
       "dict_values([9, 11, 4, 8])"
      ]
     },
     "execution_count": 35,
     "metadata": {},
     "output_type": "execute_result"
    }
   ],
   "source": [
    "# \".values\" command lists out all of the values corresponidg to the key from the dictionary\n",
    "Dict={\"key1\":9, \"key2\":11, \"key3\":4, \"key4\":8}\n",
    "Dict.values()"
   ]
  },
  {
   "cell_type": "code",
   "execution_count": 4,
   "metadata": {},
   "outputs": [
    {
     "data": {
      "text/plain": [
       "{'brand': 'Ford', 'model': 'Mustang', 'year': 2020}"
      ]
     },
     "execution_count": 4,
     "metadata": {},
     "output_type": "execute_result"
    }
   ],
   "source": [
    "#change the value of corresponding key\n",
    "car ={ \"brand\": \"Ford\", \"model\": \"Mustang\", \"year\": 1964 }\n",
    "car[\"year\"]= 2020\n",
    "car"
   ]
  },
  {
   "cell_type": "code",
   "execution_count": 12,
   "metadata": {},
   "outputs": [
    {
     "data": {
      "text/plain": [
       "{'colombo': 'srilanka', 'thimpu': 'bhutam', 'rangoon': 'burma'}"
      ]
     },
     "execution_count": 12,
     "metadata": {},
     "output_type": "execute_result"
    }
   ],
   "source": [
    "# .pop method removes the key and its value from the dictionary\n",
    "places = {\"kathmandu\":\"Nepal\",\"colombo\":\"srilanka\",\"thimpu\":\"bhutam\",\"rangoon\":\"burma\"}\n",
    "places.pop(\"kathmandu\")\n",
    "places"
   ]
  },
  {
   "cell_type": "code",
   "execution_count": 13,
   "metadata": {},
   "outputs": [
    {
     "data": {
      "text/plain": [
       "{}"
      ]
     },
     "execution_count": 13,
     "metadata": {},
     "output_type": "execute_result"
    }
   ],
   "source": [
    "# .clear method removes every keys and its values from the dictionary\n",
    "places = {\"kathmandu\":\"Nepal\",\"colombo\":\"srilanka\",\"thimpu\":\"bhutam\",\"rangoon\":\"burma\"}\n",
    "places.clear()\n",
    "places"
   ]
  },
  {
   "cell_type": "code",
   "execution_count": 5,
   "metadata": {},
   "outputs": [
    {
     "data": {
      "text/html": [
       "<div>\n",
       "<style scoped>\n",
       "    .dataframe tbody tr th:only-of-type {\n",
       "        vertical-align: middle;\n",
       "    }\n",
       "\n",
       "    .dataframe tbody tr th {\n",
       "        vertical-align: top;\n",
       "    }\n",
       "\n",
       "    .dataframe thead th {\n",
       "        text-align: right;\n",
       "    }\n",
       "</style>\n",
       "<table border=\"1\" class=\"dataframe\">\n",
       "  <thead>\n",
       "    <tr style=\"text-align: right;\">\n",
       "      <th></th>\n",
       "      <th>debit</th>\n",
       "      <th>credit</th>\n",
       "    </tr>\n",
       "  </thead>\n",
       "  <tbody>\n",
       "    <tr>\n",
       "      <th>0</th>\n",
       "      <td>100</td>\n",
       "      <td>25</td>\n",
       "    </tr>\n",
       "    <tr>\n",
       "      <th>1</th>\n",
       "      <td>111</td>\n",
       "      <td>43</td>\n",
       "    </tr>\n",
       "    <tr>\n",
       "      <th>2</th>\n",
       "      <td>121</td>\n",
       "      <td>67</td>\n",
       "    </tr>\n",
       "    <tr>\n",
       "      <th>3</th>\n",
       "      <td>124</td>\n",
       "      <td>33</td>\n",
       "    </tr>\n",
       "  </tbody>\n",
       "</table>\n",
       "</div>"
      ],
      "text/plain": [
       "   debit  credit\n",
       "0    100      25\n",
       "1    111      43\n",
       "2    121      67\n",
       "3    124      33"
      ]
     },
     "execution_count": 5,
     "metadata": {},
     "output_type": "execute_result"
    }
   ],
   "source": [
    "#creating dataFrame using pandas library\n",
    "import pandas as pd\n",
    "df = pd.DataFrame({\"debit\":[100,111,121,124], \"credit\":[25,43,67,33]})\n",
    "df"
   ]
  },
  {
   "cell_type": "code",
   "execution_count": 22,
   "metadata": {},
   "outputs": [
    {
     "data": {
      "text/plain": [
       "0    101\n",
       "1    112\n",
       "2    122\n",
       "3    125\n",
       "dtype: int64"
      ]
     },
     "execution_count": 22,
     "metadata": {},
     "output_type": "execute_result"
    }
   ],
   "source": [
    "#lambda function\n",
    "df = df.apply(lambda x:x[\"debit\"]+1, axis=1)\n",
    "df"
   ]
  },
  {
   "cell_type": "code",
   "execution_count": 21,
   "metadata": {},
   "outputs": [
    {
     "data": {
      "text/plain": [
       "0    26\n",
       "1    44\n",
       "2    68\n",
       "3    34\n",
       "dtype: int64"
      ]
     },
     "execution_count": 21,
     "metadata": {},
     "output_type": "execute_result"
    }
   ],
   "source": [
    "df.apply(lambda x:x[\"credit\"]+1, axis=1)"
   ]
  },
  {
   "cell_type": "code",
   "execution_count": null,
   "metadata": {},
   "outputs": [],
   "source": []
  }
 ],
 "metadata": {
  "kernelspec": {
   "display_name": "Python 3",
   "language": "python",
   "name": "python3"
  },
  "language_info": {
   "codemirror_mode": {
    "name": "ipython",
    "version": 3
   },
   "file_extension": ".py",
   "mimetype": "text/x-python",
   "name": "python",
   "nbconvert_exporter": "python",
   "pygments_lexer": "ipython3",
   "version": "3.7.6"
  }
 },
 "nbformat": 4,
 "nbformat_minor": 4
}
